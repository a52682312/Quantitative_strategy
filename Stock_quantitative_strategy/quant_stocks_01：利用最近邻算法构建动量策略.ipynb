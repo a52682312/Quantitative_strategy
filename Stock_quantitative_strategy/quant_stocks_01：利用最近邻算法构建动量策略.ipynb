{
 "cells": [
  {
   "attachments": {},
   "cell_type": "markdown",
   "metadata": {},
   "source": [
    "# 策略说明\n",
    "本策略基于sklearn.neighbors.NearestNeighbors算法\n",
    "1.根据指定指标，寻找历史样本中与当前样本最接近的k个样本\n",
    "2.计算这k个样本的次日的涨跌幅，上涨标记1，否则为0，记为label\n",
    "3.计算这k个样本的label的均值，作为当前的signal，越接近1表明上涨概率越大，通过走势判断未来上涨概率大，还是下跌概率大。\n",
    "其中，signal的取值范围为[-1,1]。\n"
   ]
  },
  {
   "attachments": {},
   "cell_type": "markdown",
   "metadata": {},
   "source": [
    "# 参数说明\n",
    "NearestNeighbors算法参数：\n",
    "至少包含close、volume的时序数据,若不是则需要修改columns,且index为datetime升序\n",
    "m:移动平均\n",
    "n:样本起始范围,最低为100\n",
    "k:寻找k个最近邻"
   ]
  },
  {
   "cell_type": "code",
   "execution_count": null,
   "metadata": {},
   "outputs": [],
   "source": [
    "#导入相关库\n",
    "import pandas as pd \n",
    "import numpy as np      \n",
    "import matplotlib.pyplot as plt\n",
    "import warnings\n",
    "import backtrader as bt\n",
    "import datetime\n",
    "warnings.filterwarnings('ignore')\n",
    "plt.rcParams['font.family']='Alibaba PuHuiTi 3.0'  \n",
    "plt.rcParams['axes.unicode_minus']=False#设置字体"
   ]
  },
  {
   "cell_type": "code",
   "execution_count": null,
   "metadata": {},
   "outputs": [],
   "source": [
    "#定义基础指标函数，以放量为案例\n",
    "def Increase_volume(df_volume):\n",
    "    '''\n",
    "    df_volume->Series,为成交量数据\n",
    "    且index为datetime\n",
    "    '''\n",
    "    df_vol_pct=df_volume.pct_change(1)\n",
    "    return df_vol_pct"
   ]
  },
  {
   "cell_type": "code",
   "execution_count": null,
   "metadata": {},
   "outputs": [],
   "source": [
    "#定义NearestNeighbors算法函数\n",
    "from sklearn.neighbors import NearestNeighbors\n",
    "def vol_NearestNeighbors(data,m:int,n:int,k:int):\n",
    "    '''data:为dataframe,\n",
    "    至少包含close、volume的时序数据,若不是则需要修改columns,且index为datetime升序\n",
    "    m:移动平均\n",
    "    n:样本起始范围,最低为100\n",
    "    k:寻找k个最近邻\n",
    "\n",
    "    '''\n",
    "    data['vol_pch']=Increase_volume(data.volume)#计算放量指标\n",
    "    data['vol_pch_%s'%m]=data['vol_pch'].rolling(m).mean()#计算m日均值\n",
    "    data['next_pct_change']=data.close.pct_change().shift(-1)#次日涨跌幅\n",
    "    data[\"label\"] = (data.next_pct_change > 0).astype(int) *2 -1\n",
    "    data = data.dropna()#删除空值\n",
    "    # 创建一个空的结果序列\n",
    "    result = pd.Series(dtype='float64')\n",
    "    for i in range(n, len(data)):#n取值为间隔区间\n",
    "        # 获取当前行的vol_pch和vol_pch_n值\n",
    "        vol_pch=data.vol_pch.iloc[i]\n",
    "        vol_pch_n=data['vol_pch_%s'%m].iloc[i]\n",
    "        # 取出历史样本\n",
    "        histvol_pch=data.vol_pch.iloc[:i]\n",
    "        histvol_pch_n=data['vol_pch_%s'%m].iloc[:i]\n",
    "        hist_labels = data.label.iloc[:i]\n",
    "\n",
    "        # 将histvol_pch和histvol_pch_n值组合成一个特征向量\n",
    "        features = np.column_stack((histvol_pch,histvol_pch_n))\n",
    "        # 使用K最近邻算法找到历史样本中最靠近的k个样本\n",
    "        nn = NearestNeighbors(n_neighbors=k)#参数设为k\n",
    "        nn.fit(features)\n",
    "        _, indices = nn.kneighbors([[vol_pch,vol_pch_n]])\n",
    "        # 取出对应的label值，并计算均值\n",
    "        closest_labels = hist_labels.iloc[indices[0]]\n",
    "        mean_label = closest_labels.mean()\n",
    "        print('第%s次训练,均值为%s'%(i-n,mean_label))\n",
    "        # 将均值添加到结果序列中\n",
    "        result = pd.concat([result, pd.Series(mean_label)], ignore_index=True)\n",
    "    result.index = data.iloc[n:].index\n",
    "    result = result.rolling(5).mean()\n",
    "\n",
    "    return result\n",
    "        "
   ]
  },
  {
   "cell_type": "code",
   "execution_count": null,
   "metadata": {},
   "outputs": [],
   "source": [
    "class PandasData_more(bt.feeds.PandasData):\n",
    "    lines = ('result',) # 要添加的线\n",
    "    # 设置 line 在数据源上的列位置\n",
    "    params=(('result', -1),)\n",
    "    # -1表示自动按列明匹配数据，也可以设置为线在数据源中列的位置索引 \n",
    "cerebro = bt.Cerebro()\n",
    "datafeed = PandasData_more(dataname=data,\n",
    "                               fromdate=datetime.datetime(2023,1,1),\n",
    "                               todate=datetime.datetime(2024,2,29)) \n",
    "cerebro.adddata(datafeed, name='000300.SH') # 通过 name 实现数据集与股票的一一对应"
   ]
  },
  {
   "cell_type": "code",
   "execution_count": null,
   "metadata": {},
   "outputs": [],
   "source": [
    "# 创建策略\n",
    "class vol_NearestNeighbors_day(bt.Strategy):\n",
    "    def __init__(self):\n",
    "        print('回测开始')\n",
    "    def next(self):\n",
    "        #计算买卖条件\n",
    "        #空仓时开多\n",
    "        if self.getposition(self.data0).size==0:#空仓情况下\n",
    "            if self.data0.result[0]>0.0: #均值加标准差\n",
    "                self.order = self.order_target_percent(self.data0,0.99)\n",
    "                print('时间：%s买入开仓成功'%self.datetime.date(0),self.data0.result[0])\n",
    "        elif self.getposition(self.data0).size>0:#持有多单仓情况下\n",
    "            if self.data0.result[0]<-0.1: \n",
    "                self.order = self.order_target_percent(self.data0,0)\n",
    "                print('时间：%s卖减多仓成功'%self.datetime.date(0),self.data0.result[0])\n",
    "\n",
    "cerebro.addstrategy(vol_NearestNeighbors_day)\n",
    "# 初始资金 1,000,000\n",
    "cerebro.broker.setcash(10000000.0)\n",
    "# 佣金，双边各 0.0003\n",
    "cerebro.broker.setcommission(commission=0.0003)\n",
    "# 滑点：双边各 0.0001\n",
    "cerebro.broker.set_slippage_perc(perc=0.0001)\n",
    "cerebro.addanalyzer(bt.analyzers.TimeReturn,_name='_TimeReturn')\n",
    "# 启动回测\n",
    "result=cerebro.run()"
   ]
  }
 ],
 "metadata": {
  "kernelspec": {
   "display_name": "base",
   "language": "python",
   "name": "python3"
  },
  "language_info": {
   "codemirror_mode": {
    "name": "ipython",
    "version": 3
   },
   "file_extension": ".py",
   "mimetype": "text/x-python",
   "name": "python",
   "nbconvert_exporter": "python",
   "pygments_lexer": "ipython3",
   "version": "3.10.9"
  },
  "orig_nbformat": 4
 },
 "nbformat": 4,
 "nbformat_minor": 2
}
